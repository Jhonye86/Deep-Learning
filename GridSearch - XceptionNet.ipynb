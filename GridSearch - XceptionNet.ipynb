{
  "cells": [
    {
      "cell_type": "code",
      "execution_count": null,
      "metadata": {
        "colab": {
          "base_uri": "https://localhost:8080/"
        },
        "id": "cVC8GUKHqiHK",
        "outputId": "47291ee3-eeab-4eaa-e34b-f5b8afddfd2a"
      },
      "outputs": [
        {
          "output_type": "stream",
          "name": "stdout",
          "text": [
            "Mounted at /content/drive\n"
          ]
        }
      ],
      "source": [
        "from google.colab import drive\n",
        "drive.mount('/content/drive')"
      ]
    },
    {
      "cell_type": "code",
      "execution_count": null,
      "metadata": {
        "colab": {
          "base_uri": "https://localhost:8080/"
        },
        "id": "ra35mAderV5n",
        "outputId": "6feedec9-3f12-44c9-e3e0-6168e1d40ecf"
      },
      "outputs": [
        {
          "output_type": "stream",
          "name": "stdout",
          "text": [
            "Fri Apr 25 00:31:36 2025       \n",
            "+-----------------------------------------------------------------------------------------+\n",
            "| NVIDIA-SMI 550.54.15              Driver Version: 550.54.15      CUDA Version: 12.4     |\n",
            "|-----------------------------------------+------------------------+----------------------+\n",
            "| GPU  Name                 Persistence-M | Bus-Id          Disp.A | Volatile Uncorr. ECC |\n",
            "| Fan  Temp   Perf          Pwr:Usage/Cap |           Memory-Usage | GPU-Util  Compute M. |\n",
            "|                                         |                        |               MIG M. |\n",
            "|=========================================+========================+======================|\n",
            "|   0  NVIDIA A100-SXM4-40GB          Off |   00000000:00:04.0 Off |                    0 |\n",
            "| N/A   29C    P0             44W /  400W |       0MiB /  40960MiB |      0%      Default |\n",
            "|                                         |                        |             Disabled |\n",
            "+-----------------------------------------+------------------------+----------------------+\n",
            "                                                                                         \n",
            "+-----------------------------------------------------------------------------------------+\n",
            "| Processes:                                                                              |\n",
            "|  GPU   GI   CI        PID   Type   Process name                              GPU Memory |\n",
            "|        ID   ID                                                               Usage      |\n",
            "|=========================================================================================|\n",
            "|  No running processes found                                                             |\n",
            "+-----------------------------------------------------------------------------------------+\n"
          ]
        }
      ],
      "source": [
        "!nvidia-smi"
      ]
    },
    {
      "cell_type": "code",
      "execution_count": null,
      "metadata": {
        "id": "JqrRlTWYrqlz",
        "outputId": "7daa120d-d9d0-491e-93a4-05fe4b3c0db0",
        "colab": {
          "base_uri": "https://localhost:8080/"
        }
      },
      "outputs": [
        {
          "output_type": "stream",
          "name": "stdout",
          "text": [
            "unzip:  cannot find or open /content/drive/MyDrive/real_vs_fake.zip, /content/drive/MyDrive/real_vs_fake.zip.zip or /content/drive/MyDrive/real_vs_fake.zip.ZIP.\n"
          ]
        }
      ],
      "source": [
        "# Descomprimir el ZIP en Colab con un solo comando estilo shell\n",
        "!unzip -q \"/content/drive/MyDrive/real_vs_fake.zip\" -d /content/real_vs_fake"
      ]
    },
    {
      "cell_type": "code",
      "execution_count": null,
      "metadata": {
        "colab": {
          "base_uri": "https://localhost:8080/"
        },
        "id": "j-tUyoj0-eb-",
        "outputId": "bebb2dd5-a0e1-4f3e-fa9e-2e29b88ff16c"
      },
      "outputs": [
        {
          "output_type": "stream",
          "name": "stdout",
          "text": [
            "test  train  valid\n"
          ]
        }
      ],
      "source": [
        "!ls /content/real_vs_fake/real_vs_fake\n"
      ]
    },
    {
      "cell_type": "code",
      "source": [
        "from tensorflow.keras.applications import Xception\n",
        "from tensorflow.keras.layers      import GlobalAveragePooling2D, Dense, Dropout\n",
        "from tensorflow.keras.models      import Model\n",
        "from tensorflow.keras.optimizers  import Adam"
      ],
      "metadata": {
        "id": "sZOKWkxlbu_L"
      },
      "execution_count": null,
      "outputs": []
    },
    {
      "cell_type": "code",
      "source": [
        "BASE_DIR = '/content/real_vs_fake/real_vs_fake'\n",
        "print(f\"Usando BASE_DIR: {BASE_DIR}\")\n",
        "\n",
        "INPUT_SHAPE = (299, 299, 3)\n",
        "BATCH_SIZE   = 32\n",
        "\n"
      ],
      "metadata": {
        "colab": {
          "base_uri": "https://localhost:8080/"
        },
        "id": "DR3jKd6QXFSr",
        "outputId": "37ecdf2a-cbb4-4e3c-c65f-1742d1ec448b"
      },
      "execution_count": null,
      "outputs": [
        {
          "output_type": "stream",
          "name": "stdout",
          "text": [
            "Usando BASE_DIR: /content/real_vs_fake/real_vs_fake\n"
          ]
        }
      ]
    },
    {
      "cell_type": "code",
      "source": [
        "# 1) Data generators\n",
        "from tensorflow.keras.preprocessing.image import ImageDataGenerator\n",
        "import os\n",
        "\n",
        "data_gen = ImageDataGenerator(rescale=1./255)\n",
        "\n",
        "train_dir = os.path.join(BASE_DIR, 'train')\n",
        "valid_dir = os.path.join(BASE_DIR, 'valid')\n",
        "test_dir  = os.path.join(BASE_DIR, 'test')\n",
        "\n",
        "print('Train directory:', train_dir)\n",
        "print('Valid directory:', valid_dir)\n",
        "print('Test  directory:', test_dir)\n"
      ],
      "metadata": {
        "colab": {
          "base_uri": "https://localhost:8080/"
        },
        "id": "cCrRtcADXx1C",
        "outputId": "c47fab57-3f19-4118-975b-66f22b62b9f5"
      },
      "execution_count": null,
      "outputs": [
        {
          "output_type": "stream",
          "name": "stdout",
          "text": [
            "Train directory: /content/real_vs_fake/real_vs_fake/train\n",
            "Valid directory: /content/real_vs_fake/real_vs_fake/valid\n",
            "Test  directory: /content/real_vs_fake/real_vs_fake/test\n"
          ]
        }
      ]
    },
    {
      "cell_type": "code",
      "source": [
        "train_gen = data_gen.flow_from_directory(train_dir, target_size=INPUT_SHAPE[:2], batch_size=BATCH_SIZE, class_mode='binary')\n",
        "\n",
        "valid_gen = data_gen.flow_from_directory( valid_dir, target_size=INPUT_SHAPE[:2], batch_size=BATCH_SIZE, class_mode='binary')\n",
        "\n",
        "test_gen = data_gen.flow_from_directory( test_dir, target_size=INPUT_SHAPE[:2], batch_size=BATCH_SIZE, class_mode='binary', shuffle=False)"
      ],
      "metadata": {
        "colab": {
          "base_uri": "https://localhost:8080/"
        },
        "id": "ijZzsKVPX63T",
        "outputId": "d9611b7d-2131-4e18-8d5b-6840b67cb2e1"
      },
      "execution_count": null,
      "outputs": [
        {
          "output_type": "stream",
          "name": "stdout",
          "text": [
            "Found 100000 images belonging to 2 classes.\n",
            "Found 20000 images belonging to 2 classes.\n",
            "Found 20000 images belonging to 2 classes.\n"
          ]
        }
      ]
    },
    {
      "cell_type": "code",
      "source": [
        "def create_model(dropout_rate, dense_units, learning_rate):\n",
        "\n",
        "# First we built the Xception model base with imaginet\n",
        "\n",
        "    base = Xception(weights='imagenet', include_top=False, input_shape=INPUT_SHAPE)\n",
        "    base.trainable = False\n",
        "\n",
        "# then we added the classification head\n",
        "    x = base.output\n",
        "    x = GlobalAveragePooling2D()(x)\n",
        "    x = Dense(dense_units, activation='relu')(x)\n",
        "    x = Dropout(dropout_rate)(x)\n",
        "    preds = Dense(1, activation='sigmoid')(x)\n",
        "\n",
        "    model = Model(inputs=base.input, outputs=preds)\n",
        "    model.compile(optimizer=Adam(learning_rate=learning_rate),loss='binary_crossentropy',metrics=['accuracy']\n",
        "    )\n",
        "\n",
        "    return model"
      ],
      "metadata": {
        "id": "FCbNUvl6avB2"
      },
      "execution_count": null,
      "outputs": []
    },
    {
      "cell_type": "code",
      "source": [
        "# 3) we crated a for loop for the grid search (reduced)\n",
        "\n",
        "best_acc = 0\n",
        "best_params = None\n",
        "best_model = None\n",
        "\n",
        "for dr in [0.2, 0.4]:\n",
        "    for du in [128, 256]:\n",
        "        for lr in [1e-4, 1e-5]:\n",
        "            print(f'Trying dropout={dr}, dense_units={du}, lr={lr}')\n",
        "            model = create_model(dr, du, lr)\n",
        "            history = model.fit(\n",
        "                train_gen,\n",
        "                epochs=3,\n",
        "                validation_data=valid_gen,\n",
        "                verbose=1\n",
        "            )\n",
        "            val_acc = history.history['val_accuracy'][-1]\n",
        "            if val_acc > best_acc:\n",
        "                best_acc = val_acc\n",
        "                best_params = (dr, du, lr)\n",
        "                best_model = model\n",
        "\n",
        "print('→ Best params:', best_params, '→ best val_accuracy:', best_acc)"
      ],
      "metadata": {
        "colab": {
          "base_uri": "https://localhost:8080/"
        },
        "id": "JDEKhtogbN3d",
        "outputId": "03d1f6aa-2a3d-400a-c22f-9595470a87c7"
      },
      "execution_count": null,
      "outputs": [
        {
          "output_type": "stream",
          "name": "stdout",
          "text": [
            "Trying dropout=0.2, dense_units=128, lr=0.0001\n",
            "Downloading data from https://storage.googleapis.com/tensorflow/keras-applications/xception/xception_weights_tf_dim_ordering_tf_kernels_notop.h5\n",
            "\u001b[1m83683744/83683744\u001b[0m \u001b[32m━━━━━━━━━━━━━━━━━━━━\u001b[0m\u001b[37m\u001b[0m \u001b[1m0s\u001b[0m 0us/step\n"
          ]
        },
        {
          "output_type": "stream",
          "name": "stderr",
          "text": [
            "/usr/local/lib/python3.11/dist-packages/keras/src/trainers/data_adapters/py_dataset_adapter.py:121: UserWarning: Your `PyDataset` class should call `super().__init__(**kwargs)` in its constructor. `**kwargs` can include `workers`, `use_multiprocessing`, `max_queue_size`. Do not pass these arguments to `fit()`, as they will be ignored.\n",
            "  self._warn_if_super_not_called()\n"
          ]
        },
        {
          "output_type": "stream",
          "name": "stdout",
          "text": [
            "Epoch 1/3\n",
            "\u001b[1m3125/3125\u001b[0m \u001b[32m━━━━━━━━━━━━━━━━━━━━\u001b[0m\u001b[37m\u001b[0m \u001b[1m326s\u001b[0m 100ms/step - accuracy: 0.7366 - loss: 0.5209 - val_accuracy: 0.8165 - val_loss: 0.4084\n",
            "Epoch 2/3\n",
            "\u001b[1m3125/3125\u001b[0m \u001b[32m━━━━━━━━━━━━━━━━━━━━\u001b[0m\u001b[37m\u001b[0m \u001b[1m307s\u001b[0m 98ms/step - accuracy: 0.8200 - loss: 0.3989 - val_accuracy: 0.8393 - val_loss: 0.3690\n",
            "Epoch 3/3\n",
            "\u001b[1m3125/3125\u001b[0m \u001b[32m━━━━━━━━━━━━━━━━━━━━\u001b[0m\u001b[37m\u001b[0m \u001b[1m309s\u001b[0m 99ms/step - accuracy: 0.8381 - loss: 0.3676 - val_accuracy: 0.8461 - val_loss: 0.3503\n",
            "Trying dropout=0.2, dense_units=128, lr=1e-05\n",
            "Epoch 1/3\n",
            "\u001b[1m3125/3125\u001b[0m \u001b[32m━━━━━━━━━━━━━━━━━━━━\u001b[0m\u001b[37m\u001b[0m \u001b[1m322s\u001b[0m 101ms/step - accuracy: 0.6622 - loss: 0.6124 - val_accuracy: 0.7508 - val_loss: 0.5169\n",
            "Epoch 2/3\n",
            "\u001b[1m3125/3125\u001b[0m \u001b[32m━━━━━━━━━━━━━━━━━━━━\u001b[0m\u001b[37m\u001b[0m \u001b[1m312s\u001b[0m 100ms/step - accuracy: 0.7544 - loss: 0.5113 - val_accuracy: 0.7766 - val_loss: 0.4797\n",
            "Epoch 3/3\n",
            "\u001b[1m3125/3125\u001b[0m \u001b[32m━━━━━━━━━━━━━━━━━━━━\u001b[0m\u001b[37m\u001b[0m \u001b[1m310s\u001b[0m 99ms/step - accuracy: 0.7719 - loss: 0.4829 - val_accuracy: 0.7870 - val_loss: 0.4581\n",
            "Trying dropout=0.2, dense_units=256, lr=0.0001\n",
            "Epoch 1/3\n",
            "\u001b[1m3125/3125\u001b[0m \u001b[32m━━━━━━━━━━━━━━━━━━━━\u001b[0m\u001b[37m\u001b[0m \u001b[1m319s\u001b[0m 99ms/step - accuracy: 0.7537 - loss: 0.4988 - val_accuracy: 0.8266 - val_loss: 0.3890\n",
            "Epoch 2/3\n",
            "\u001b[1m3125/3125\u001b[0m \u001b[32m━━━━━━━━━━━━━━━━━━━━\u001b[0m\u001b[37m\u001b[0m \u001b[1m311s\u001b[0m 99ms/step - accuracy: 0.8294 - loss: 0.3815 - val_accuracy: 0.8443 - val_loss: 0.3569\n",
            "Epoch 3/3\n",
            "\u001b[1m3125/3125\u001b[0m \u001b[32m━━━━━━━━━━━━━━━━━━━━\u001b[0m\u001b[37m\u001b[0m \u001b[1m310s\u001b[0m 99ms/step - accuracy: 0.8492 - loss: 0.3445 - val_accuracy: 0.8552 - val_loss: 0.3355\n",
            "Trying dropout=0.2, dense_units=256, lr=1e-05\n",
            "Epoch 1/3\n",
            "\u001b[1m3125/3125\u001b[0m \u001b[32m━━━━━━━━━━━━━━━━━━━━\u001b[0m\u001b[37m\u001b[0m \u001b[1m320s\u001b[0m 100ms/step - accuracy: 0.6779 - loss: 0.5992 - val_accuracy: 0.7588 - val_loss: 0.5037\n",
            "Epoch 2/3\n",
            "\u001b[1m3125/3125\u001b[0m \u001b[32m━━━━━━━━━━━━━━━━━━━━\u001b[0m\u001b[37m\u001b[0m \u001b[1m308s\u001b[0m 98ms/step - accuracy: 0.7659 - loss: 0.4944 - val_accuracy: 0.7857 - val_loss: 0.4642\n",
            "Epoch 3/3\n",
            "\u001b[1m3125/3125\u001b[0m \u001b[32m━━━━━━━━━━━━━━━━━━━━\u001b[0m\u001b[37m\u001b[0m \u001b[1m310s\u001b[0m 99ms/step - accuracy: 0.7833 - loss: 0.4637 - val_accuracy: 0.7991 - val_loss: 0.4423\n",
            "Trying dropout=0.4, dense_units=128, lr=0.0001\n",
            "Epoch 1/3\n",
            "\u001b[1m3125/3125\u001b[0m \u001b[32m━━━━━━━━━━━━━━━━━━━━\u001b[0m\u001b[37m\u001b[0m \u001b[1m319s\u001b[0m 100ms/step - accuracy: 0.7291 - loss: 0.5329 - val_accuracy: 0.8108 - val_loss: 0.4180\n",
            "Epoch 2/3\n",
            "\u001b[1m3125/3125\u001b[0m \u001b[32m━━━━━━━━━━━━━━━━━━━━\u001b[0m\u001b[37m\u001b[0m \u001b[1m309s\u001b[0m 99ms/step - accuracy: 0.8097 - loss: 0.4171 - val_accuracy: 0.8300 - val_loss: 0.3802\n",
            "Epoch 3/3\n",
            "\u001b[1m3125/3125\u001b[0m \u001b[32m━━━━━━━━━━━━━━━━━━━━\u001b[0m\u001b[37m\u001b[0m \u001b[1m314s\u001b[0m 100ms/step - accuracy: 0.8319 - loss: 0.3797 - val_accuracy: 0.8418 - val_loss: 0.3597\n",
            "Trying dropout=0.4, dense_units=128, lr=1e-05\n",
            "Epoch 1/3\n",
            "\u001b[1m3125/3125\u001b[0m \u001b[32m━━━━━━━━━━━━━━━━━━━━\u001b[0m\u001b[37m\u001b[0m \u001b[1m319s\u001b[0m 100ms/step - accuracy: 0.6359 - loss: 0.6319 - val_accuracy: 0.7368 - val_loss: 0.5332\n",
            "Epoch 2/3\n",
            "\u001b[1m3125/3125\u001b[0m \u001b[32m━━━━━━━━━━━━━━━━━━━━\u001b[0m\u001b[37m\u001b[0m \u001b[1m307s\u001b[0m 98ms/step - accuracy: 0.7393 - loss: 0.5305 - val_accuracy: 0.7646 - val_loss: 0.4954\n",
            "Epoch 3/3\n",
            "\u001b[1m3125/3125\u001b[0m \u001b[32m━━━━━━━━━━━━━━━━━━━━\u001b[0m\u001b[37m\u001b[0m \u001b[1m305s\u001b[0m 98ms/step - accuracy: 0.7616 - loss: 0.4986 - val_accuracy: 0.7794 - val_loss: 0.4742\n",
            "Trying dropout=0.4, dense_units=256, lr=0.0001\n",
            "Epoch 1/3\n",
            "\u001b[1m3125/3125\u001b[0m \u001b[32m━━━━━━━━━━━━━━━━━━━━\u001b[0m\u001b[37m\u001b[0m \u001b[1m320s\u001b[0m 100ms/step - accuracy: 0.7433 - loss: 0.5125 - val_accuracy: 0.8224 - val_loss: 0.3992\n",
            "Epoch 2/3\n",
            "\u001b[1m3125/3125\u001b[0m \u001b[32m━━━━━━━━━━━━━━━━━━━━\u001b[0m\u001b[37m\u001b[0m \u001b[1m309s\u001b[0m 99ms/step - accuracy: 0.8202 - loss: 0.3984 - val_accuracy: 0.8419 - val_loss: 0.3617\n",
            "Epoch 3/3\n",
            "\u001b[1m3125/3125\u001b[0m \u001b[32m━━━━━━━━━━━━━━━━━━━━\u001b[0m\u001b[37m\u001b[0m \u001b[1m308s\u001b[0m 99ms/step - accuracy: 0.8399 - loss: 0.3605 - val_accuracy: 0.8544 - val_loss: 0.3347\n",
            "Trying dropout=0.4, dense_units=256, lr=1e-05\n",
            "Epoch 1/3\n",
            "\u001b[1m3125/3125\u001b[0m \u001b[32m━━━━━━━━━━━━━━━━━━━━\u001b[0m\u001b[37m\u001b[0m \u001b[1m324s\u001b[0m 101ms/step - accuracy: 0.6577 - loss: 0.6145 - val_accuracy: 0.7523 - val_loss: 0.5135\n",
            "Epoch 2/3\n",
            "\u001b[1m3125/3125\u001b[0m \u001b[32m━━━━━━━━━━━━━━━━━━━━\u001b[0m\u001b[37m\u001b[0m \u001b[1m309s\u001b[0m 99ms/step - accuracy: 0.7510 - loss: 0.5133 - val_accuracy: 0.7778 - val_loss: 0.4753\n",
            "Epoch 3/3\n",
            "\u001b[1m3125/3125\u001b[0m \u001b[32m━━━━━━━━━━━━━━━━━━━━\u001b[0m\u001b[37m\u001b[0m \u001b[1m309s\u001b[0m 99ms/step - accuracy: 0.7759 - loss: 0.4761 - val_accuracy: 0.7897 - val_loss: 0.4545\n",
            "→ Best params: (0.2, 256, 0.0001) → best val_accuracy: 0.8551999926567078\n"
          ]
        }
      ]
    },
    {
      "cell_type": "code",
      "source": [
        "from tensorflow.keras.callbacks import EarlyStopping, ModelCheckpoint\n",
        "\n",
        "callbacks = [\n",
        "    EarlyStopping(patience=3, restore_best_weights=True, monitor='val_loss'),\n",
        "    ModelCheckpoint('best_xception.h5', save_best_only=True, monitor='val_loss', verbose=1)\n",
        "]\n",
        "\n",
        "history = best_model.fit(train_gen, epochs=20, validation_data=valid_gen, callbacks=callbacks, verbose=1)\n"
      ],
      "metadata": {
        "colab": {
          "base_uri": "https://localhost:8080/"
        },
        "id": "uDomZvIg4Vcu",
        "outputId": "a2053543-d0f8-435f-ab56-b8efc80f171f"
      },
      "execution_count": null,
      "outputs": [
        {
          "output_type": "stream",
          "name": "stdout",
          "text": [
            "Epoch 1/20\n",
            "\u001b[1m3125/3125\u001b[0m \u001b[32m━━━━━━━━━━━━━━━━━━━━\u001b[0m\u001b[37m\u001b[0m \u001b[1m0s\u001b[0m 82ms/step - accuracy: 0.8658 - loss: 0.3160\n",
            "Epoch 1: val_loss improved from inf to 0.31180, saving model to best_xception.h5\n"
          ]
        },
        {
          "output_type": "stream",
          "name": "stderr",
          "text": [
            "WARNING:absl:You are saving your model as an HDF5 file via `model.save()` or `keras.saving.save_model(model)`. This file format is considered legacy. We recommend using instead the native Keras format, e.g. `model.save('my_model.keras')` or `keras.saving.save_model(model, 'my_model.keras')`. \n"
          ]
        },
        {
          "output_type": "stream",
          "name": "stdout",
          "text": [
            "\b\b\b\b\b\b\b\b\b\b\b\b\b\b\b\b\b\b\b\b\b\b\b\b\b\b\b\b\b\b\b\b\b\b\b\b\b\b\b\b\b\b\b\b\b\b\b\b\b\b\b\b\b\b\b\b\b\b\b\b\b\b\b\b\b\b\b\b\b\b\b\b\b\b\b\b\b\r\u001b[1m3125/3125\u001b[0m \u001b[32m━━━━━━━━━━━━━━━━━━━━\u001b[0m\u001b[37m\u001b[0m \u001b[1m307s\u001b[0m 98ms/step - accuracy: 0.8658 - loss: 0.3160 - val_accuracy: 0.8659 - val_loss: 0.3118\n",
            "Epoch 2/20\n",
            "\u001b[1m3125/3125\u001b[0m \u001b[32m━━━━━━━━━━━━━━━━━━━━\u001b[0m\u001b[37m\u001b[0m \u001b[1m0s\u001b[0m 83ms/step - accuracy: 0.8736 - loss: 0.2993\n",
            "Epoch 2: val_loss improved from 0.31180 to 0.30001, saving model to best_xception.h5\n"
          ]
        },
        {
          "output_type": "stream",
          "name": "stderr",
          "text": [
            "WARNING:absl:You are saving your model as an HDF5 file via `model.save()` or `keras.saving.save_model(model)`. This file format is considered legacy. We recommend using instead the native Keras format, e.g. `model.save('my_model.keras')` or `keras.saving.save_model(model, 'my_model.keras')`. \n"
          ]
        },
        {
          "output_type": "stream",
          "name": "stdout",
          "text": [
            "\b\b\b\b\b\b\b\b\b\b\b\b\b\b\b\b\b\b\b\b\b\b\b\b\b\b\b\b\b\b\b\b\b\b\b\b\b\b\b\b\b\b\b\b\b\b\b\b\b\b\b\b\b\b\b\b\b\b\b\b\b\b\b\b\b\b\b\b\b\b\b\b\b\b\b\b\b\r\u001b[1m3125/3125\u001b[0m \u001b[32m━━━━━━━━━━━━━━━━━━━━\u001b[0m\u001b[37m\u001b[0m \u001b[1m311s\u001b[0m 99ms/step - accuracy: 0.8736 - loss: 0.2993 - val_accuracy: 0.8714 - val_loss: 0.3000\n",
            "Epoch 3/20\n",
            "\u001b[1m3125/3125\u001b[0m \u001b[32m━━━━━━━━━━━━━━━━━━━━\u001b[0m\u001b[37m\u001b[0m \u001b[1m0s\u001b[0m 82ms/step - accuracy: 0.8814 - loss: 0.2823\n",
            "Epoch 3: val_loss improved from 0.30001 to 0.28828, saving model to best_xception.h5\n"
          ]
        },
        {
          "output_type": "stream",
          "name": "stderr",
          "text": [
            "WARNING:absl:You are saving your model as an HDF5 file via `model.save()` or `keras.saving.save_model(model)`. This file format is considered legacy. We recommend using instead the native Keras format, e.g. `model.save('my_model.keras')` or `keras.saving.save_model(model, 'my_model.keras')`. \n"
          ]
        },
        {
          "output_type": "stream",
          "name": "stdout",
          "text": [
            "\b\b\b\b\b\b\b\b\b\b\b\b\b\b\b\b\b\b\b\b\b\b\b\b\b\b\b\b\b\b\b\b\b\b\b\b\b\b\b\b\b\b\b\b\b\b\b\b\b\b\b\b\b\b\b\b\b\b\b\b\b\b\b\b\b\b\b\b\b\b\b\b\b\b\b\b\b\r\u001b[1m3125/3125\u001b[0m \u001b[32m━━━━━━━━━━━━━━━━━━━━\u001b[0m\u001b[37m\u001b[0m \u001b[1m308s\u001b[0m 98ms/step - accuracy: 0.8814 - loss: 0.2823 - val_accuracy: 0.8755 - val_loss: 0.2883\n",
            "Epoch 4/20\n",
            "\u001b[1m3125/3125\u001b[0m \u001b[32m━━━━━━━━━━━━━━━━━━━━\u001b[0m\u001b[37m\u001b[0m \u001b[1m0s\u001b[0m 84ms/step - accuracy: 0.8914 - loss: 0.2646\n",
            "Epoch 4: val_loss improved from 0.28828 to 0.28307, saving model to best_xception.h5\n"
          ]
        },
        {
          "output_type": "stream",
          "name": "stderr",
          "text": [
            "WARNING:absl:You are saving your model as an HDF5 file via `model.save()` or `keras.saving.save_model(model)`. This file format is considered legacy. We recommend using instead the native Keras format, e.g. `model.save('my_model.keras')` or `keras.saving.save_model(model, 'my_model.keras')`. \n"
          ]
        },
        {
          "output_type": "stream",
          "name": "stdout",
          "text": [
            "\b\b\b\b\b\b\b\b\b\b\b\b\b\b\b\b\b\b\b\b\b\b\b\b\b\b\b\b\b\b\b\b\b\b\b\b\b\b\b\b\b\b\b\b\b\b\b\b\b\b\b\b\b\b\b\b\b\b\b\b\b\b\b\b\b\b\b\b\b\b\b\b\b\b\b\b\b\r\u001b[1m3125/3125\u001b[0m \u001b[32m━━━━━━━━━━━━━━━━━━━━\u001b[0m\u001b[37m\u001b[0m \u001b[1m312s\u001b[0m 100ms/step - accuracy: 0.8914 - loss: 0.2646 - val_accuracy: 0.8795 - val_loss: 0.2831\n",
            "Epoch 5/20\n",
            "\u001b[1m3125/3125\u001b[0m \u001b[32m━━━━━━━━━━━━━━━━━━━━\u001b[0m\u001b[37m\u001b[0m \u001b[1m0s\u001b[0m 82ms/step - accuracy: 0.8976 - loss: 0.2499\n",
            "Epoch 5: val_loss improved from 0.28307 to 0.27130, saving model to best_xception.h5\n"
          ]
        },
        {
          "output_type": "stream",
          "name": "stderr",
          "text": [
            "WARNING:absl:You are saving your model as an HDF5 file via `model.save()` or `keras.saving.save_model(model)`. This file format is considered legacy. We recommend using instead the native Keras format, e.g. `model.save('my_model.keras')` or `keras.saving.save_model(model, 'my_model.keras')`. \n"
          ]
        },
        {
          "output_type": "stream",
          "name": "stdout",
          "text": [
            "\b\b\b\b\b\b\b\b\b\b\b\b\b\b\b\b\b\b\b\b\b\b\b\b\b\b\b\b\b\b\b\b\b\b\b\b\b\b\b\b\b\b\b\b\b\b\b\b\b\b\b\b\b\b\b\b\b\b\b\b\b\b\b\b\b\b\b\b\b\b\b\b\b\b\b\b\b\r\u001b[1m3125/3125\u001b[0m \u001b[32m━━━━━━━━━━━━━━━━━━━━\u001b[0m\u001b[37m\u001b[0m \u001b[1m305s\u001b[0m 98ms/step - accuracy: 0.8976 - loss: 0.2499 - val_accuracy: 0.8833 - val_loss: 0.2713\n",
            "Epoch 6/20\n",
            "\u001b[1m3125/3125\u001b[0m \u001b[32m━━━━━━━━━━━━━━━━━━━━\u001b[0m\u001b[37m\u001b[0m \u001b[1m0s\u001b[0m 83ms/step - accuracy: 0.9040 - loss: 0.2380\n",
            "Epoch 6: val_loss improved from 0.27130 to 0.26307, saving model to best_xception.h5\n"
          ]
        },
        {
          "output_type": "stream",
          "name": "stderr",
          "text": [
            "WARNING:absl:You are saving your model as an HDF5 file via `model.save()` or `keras.saving.save_model(model)`. This file format is considered legacy. We recommend using instead the native Keras format, e.g. `model.save('my_model.keras')` or `keras.saving.save_model(model, 'my_model.keras')`. \n"
          ]
        },
        {
          "output_type": "stream",
          "name": "stdout",
          "text": [
            "\b\b\b\b\b\b\b\b\b\b\b\b\b\b\b\b\b\b\b\b\b\b\b\b\b\b\b\b\b\b\b\b\b\b\b\b\b\b\b\b\b\b\b\b\b\b\b\b\b\b\b\b\b\b\b\b\b\b\b\b\b\b\b\b\b\b\b\b\b\b\b\b\b\b\b\b\b\r\u001b[1m3125/3125\u001b[0m \u001b[32m━━━━━━━━━━━━━━━━━━━━\u001b[0m\u001b[37m\u001b[0m \u001b[1m311s\u001b[0m 99ms/step - accuracy: 0.9040 - loss: 0.2380 - val_accuracy: 0.8889 - val_loss: 0.2631\n",
            "Epoch 7/20\n",
            "\u001b[1m3125/3125\u001b[0m \u001b[32m━━━━━━━━━━━━━━━━━━━━\u001b[0m\u001b[37m\u001b[0m \u001b[1m0s\u001b[0m 82ms/step - accuracy: 0.9076 - loss: 0.2270\n",
            "Epoch 7: val_loss improved from 0.26307 to 0.25862, saving model to best_xception.h5\n"
          ]
        },
        {
          "output_type": "stream",
          "name": "stderr",
          "text": [
            "WARNING:absl:You are saving your model as an HDF5 file via `model.save()` or `keras.saving.save_model(model)`. This file format is considered legacy. We recommend using instead the native Keras format, e.g. `model.save('my_model.keras')` or `keras.saving.save_model(model, 'my_model.keras')`. \n"
          ]
        },
        {
          "output_type": "stream",
          "name": "stdout",
          "text": [
            "\b\b\b\b\b\b\b\b\b\b\b\b\b\b\b\b\b\b\b\b\b\b\b\b\b\b\b\b\b\b\b\b\b\b\b\b\b\b\b\b\b\b\b\b\b\b\b\b\b\b\b\b\b\b\b\b\b\b\b\b\b\b\b\b\b\b\b\b\b\b\b\b\b\b\b\b\b\r\u001b[1m3125/3125\u001b[0m \u001b[32m━━━━━━━━━━━━━━━━━━━━\u001b[0m\u001b[37m\u001b[0m \u001b[1m308s\u001b[0m 98ms/step - accuracy: 0.9076 - loss: 0.2270 - val_accuracy: 0.8909 - val_loss: 0.2586\n",
            "Epoch 8/20\n",
            "\u001b[1m3125/3125\u001b[0m \u001b[32m━━━━━━━━━━━━━━━━━━━━\u001b[0m\u001b[37m\u001b[0m \u001b[1m0s\u001b[0m 83ms/step - accuracy: 0.9118 - loss: 0.2201\n",
            "Epoch 8: val_loss improved from 0.25862 to 0.25456, saving model to best_xception.h5\n"
          ]
        },
        {
          "output_type": "stream",
          "name": "stderr",
          "text": [
            "WARNING:absl:You are saving your model as an HDF5 file via `model.save()` or `keras.saving.save_model(model)`. This file format is considered legacy. We recommend using instead the native Keras format, e.g. `model.save('my_model.keras')` or `keras.saving.save_model(model, 'my_model.keras')`. \n"
          ]
        },
        {
          "output_type": "stream",
          "name": "stdout",
          "text": [
            "\b\b\b\b\b\b\b\b\b\b\b\b\b\b\b\b\b\b\b\b\b\b\b\b\b\b\b\b\b\b\b\b\b\b\b\b\b\b\b\b\b\b\b\b\b\b\b\b\b\b\b\b\b\b\b\b\b\b\b\b\b\b\b\b\b\b\b\b\b\b\b\b\b\b\b\b\b\r\u001b[1m3125/3125\u001b[0m \u001b[32m━━━━━━━━━━━━━━━━━━━━\u001b[0m\u001b[37m\u001b[0m \u001b[1m311s\u001b[0m 99ms/step - accuracy: 0.9118 - loss: 0.2201 - val_accuracy: 0.8920 - val_loss: 0.2546\n",
            "Epoch 9/20\n",
            "\u001b[1m3125/3125\u001b[0m \u001b[32m━━━━━━━━━━━━━━━━━━━━\u001b[0m\u001b[37m\u001b[0m \u001b[1m0s\u001b[0m 83ms/step - accuracy: 0.9176 - loss: 0.2077\n",
            "Epoch 9: val_loss improved from 0.25456 to 0.24419, saving model to best_xception.h5\n"
          ]
        },
        {
          "output_type": "stream",
          "name": "stderr",
          "text": [
            "WARNING:absl:You are saving your model as an HDF5 file via `model.save()` or `keras.saving.save_model(model)`. This file format is considered legacy. We recommend using instead the native Keras format, e.g. `model.save('my_model.keras')` or `keras.saving.save_model(model, 'my_model.keras')`. \n"
          ]
        },
        {
          "output_type": "stream",
          "name": "stdout",
          "text": [
            "\b\b\b\b\b\b\b\b\b\b\b\b\b\b\b\b\b\b\b\b\b\b\b\b\b\b\b\b\b\b\b\b\b\b\b\b\b\b\b\b\b\b\b\b\b\b\b\b\b\b\b\b\b\b\b\b\b\b\b\b\b\b\b\b\b\b\b\b\b\b\b\b\b\b\b\b\b\r\u001b[1m3125/3125\u001b[0m \u001b[32m━━━━━━━━━━━━━━━━━━━━\u001b[0m\u001b[37m\u001b[0m \u001b[1m309s\u001b[0m 99ms/step - accuracy: 0.9176 - loss: 0.2077 - val_accuracy: 0.8970 - val_loss: 0.2442\n",
            "Epoch 10/20\n",
            "\u001b[1m3125/3125\u001b[0m \u001b[32m━━━━━━━━━━━━━━━━━━━━\u001b[0m\u001b[37m\u001b[0m \u001b[1m0s\u001b[0m 82ms/step - accuracy: 0.9216 - loss: 0.1966\n",
            "Epoch 10: val_loss improved from 0.24419 to 0.24081, saving model to best_xception.h5\n"
          ]
        },
        {
          "output_type": "stream",
          "name": "stderr",
          "text": [
            "WARNING:absl:You are saving your model as an HDF5 file via `model.save()` or `keras.saving.save_model(model)`. This file format is considered legacy. We recommend using instead the native Keras format, e.g. `model.save('my_model.keras')` or `keras.saving.save_model(model, 'my_model.keras')`. \n"
          ]
        },
        {
          "output_type": "stream",
          "name": "stdout",
          "text": [
            "\b\b\b\b\b\b\b\b\b\b\b\b\b\b\b\b\b\b\b\b\b\b\b\b\b\b\b\b\b\b\b\b\b\b\b\b\b\b\b\b\b\b\b\b\b\b\b\b\b\b\b\b\b\b\b\b\b\b\b\b\b\b\b\b\b\b\b\b\b\b\b\b\b\b\b\b\b\r\u001b[1m3125/3125\u001b[0m \u001b[32m━━━━━━━━━━━━━━━━━━━━\u001b[0m\u001b[37m\u001b[0m \u001b[1m307s\u001b[0m 98ms/step - accuracy: 0.9216 - loss: 0.1966 - val_accuracy: 0.9000 - val_loss: 0.2408\n",
            "Epoch 11/20\n",
            "\u001b[1m3125/3125\u001b[0m \u001b[32m━━━━━━━━━━━━━━━━━━━━\u001b[0m\u001b[37m\u001b[0m \u001b[1m0s\u001b[0m 82ms/step - accuracy: 0.9244 - loss: 0.1906\n",
            "Epoch 11: val_loss did not improve from 0.24081\n",
            "\u001b[1m3125/3125\u001b[0m \u001b[32m━━━━━━━━━━━━━━━━━━━━\u001b[0m\u001b[37m\u001b[0m \u001b[1m307s\u001b[0m 98ms/step - accuracy: 0.9244 - loss: 0.1906 - val_accuracy: 0.8975 - val_loss: 0.2444\n",
            "Epoch 12/20\n",
            "\u001b[1m3125/3125\u001b[0m \u001b[32m━━━━━━━━━━━━━━━━━━━━\u001b[0m\u001b[37m\u001b[0m \u001b[1m0s\u001b[0m 83ms/step - accuracy: 0.9296 - loss: 0.1792\n",
            "Epoch 12: val_loss improved from 0.24081 to 0.23857, saving model to best_xception.h5\n"
          ]
        },
        {
          "output_type": "stream",
          "name": "stderr",
          "text": [
            "WARNING:absl:You are saving your model as an HDF5 file via `model.save()` or `keras.saving.save_model(model)`. This file format is considered legacy. We recommend using instead the native Keras format, e.g. `model.save('my_model.keras')` or `keras.saving.save_model(model, 'my_model.keras')`. \n"
          ]
        },
        {
          "output_type": "stream",
          "name": "stdout",
          "text": [
            "\b\b\b\b\b\b\b\b\b\b\b\b\b\b\b\b\b\b\b\b\b\b\b\b\b\b\b\b\b\b\b\b\b\b\b\b\b\b\b\b\b\b\b\b\b\b\b\b\b\b\b\b\b\b\b\b\b\b\b\b\b\b\b\b\b\b\b\b\b\b\b\b\b\b\b\b\b\r\u001b[1m3125/3125\u001b[0m \u001b[32m━━━━━━━━━━━━━━━━━━━━\u001b[0m\u001b[37m\u001b[0m \u001b[1m310s\u001b[0m 99ms/step - accuracy: 0.9296 - loss: 0.1792 - val_accuracy: 0.8992 - val_loss: 0.2386\n",
            "Epoch 13/20\n",
            "\u001b[1m3125/3125\u001b[0m \u001b[32m━━━━━━━━━━━━━━━━━━━━\u001b[0m\u001b[37m\u001b[0m \u001b[1m0s\u001b[0m 82ms/step - accuracy: 0.9338 - loss: 0.1728\n",
            "Epoch 13: val_loss improved from 0.23857 to 0.22967, saving model to best_xception.h5\n"
          ]
        },
        {
          "output_type": "stream",
          "name": "stderr",
          "text": [
            "WARNING:absl:You are saving your model as an HDF5 file via `model.save()` or `keras.saving.save_model(model)`. This file format is considered legacy. We recommend using instead the native Keras format, e.g. `model.save('my_model.keras')` or `keras.saving.save_model(model, 'my_model.keras')`. \n"
          ]
        },
        {
          "output_type": "stream",
          "name": "stdout",
          "text": [
            "\b\b\b\b\b\b\b\b\b\b\b\b\b\b\b\b\b\b\b\b\b\b\b\b\b\b\b\b\b\b\b\b\b\b\b\b\b\b\b\b\b\b\b\b\b\b\b\b\b\b\b\b\b\b\b\b\b\b\b\b\b\b\b\b\b\b\b\b\b\b\b\b\b\b\b\b\b\r\u001b[1m3125/3125\u001b[0m \u001b[32m━━━━━━━━━━━━━━━━━━━━\u001b[0m\u001b[37m\u001b[0m \u001b[1m307s\u001b[0m 98ms/step - accuracy: 0.9338 - loss: 0.1728 - val_accuracy: 0.9043 - val_loss: 0.2297\n",
            "Epoch 14/20\n",
            "\u001b[1m3125/3125\u001b[0m \u001b[32m━━━━━━━━━━━━━━━━━━━━\u001b[0m\u001b[37m\u001b[0m \u001b[1m0s\u001b[0m 82ms/step - accuracy: 0.9359 - loss: 0.1647\n",
            "Epoch 14: val_loss improved from 0.22967 to 0.22809, saving model to best_xception.h5\n"
          ]
        },
        {
          "output_type": "stream",
          "name": "stderr",
          "text": [
            "WARNING:absl:You are saving your model as an HDF5 file via `model.save()` or `keras.saving.save_model(model)`. This file format is considered legacy. We recommend using instead the native Keras format, e.g. `model.save('my_model.keras')` or `keras.saving.save_model(model, 'my_model.keras')`. \n"
          ]
        },
        {
          "output_type": "stream",
          "name": "stdout",
          "text": [
            "\b\b\b\b\b\b\b\b\b\b\b\b\b\b\b\b\b\b\b\b\b\b\b\b\b\b\b\b\b\b\b\b\b\b\b\b\b\b\b\b\b\b\b\b\b\b\b\b\b\b\b\b\b\b\b\b\b\b\b\b\b\b\b\b\b\b\b\b\b\b\b\b\b\b\b\b\b\r\u001b[1m3125/3125\u001b[0m \u001b[32m━━━━━━━━━━━━━━━━━━━━\u001b[0m\u001b[37m\u001b[0m \u001b[1m308s\u001b[0m 99ms/step - accuracy: 0.9359 - loss: 0.1647 - val_accuracy: 0.9054 - val_loss: 0.2281\n",
            "Epoch 15/20\n",
            "\u001b[1m3125/3125\u001b[0m \u001b[32m━━━━━━━━━━━━━━━━━━━━\u001b[0m\u001b[37m\u001b[0m \u001b[1m0s\u001b[0m 82ms/step - accuracy: 0.9381 - loss: 0.1580\n",
            "Epoch 15: val_loss did not improve from 0.22809\n",
            "\u001b[1m3125/3125\u001b[0m \u001b[32m━━━━━━━━━━━━━━━━━━━━\u001b[0m\u001b[37m\u001b[0m \u001b[1m306s\u001b[0m 98ms/step - accuracy: 0.9381 - loss: 0.1580 - val_accuracy: 0.9034 - val_loss: 0.2355\n",
            "Epoch 16/20\n",
            "\u001b[1m3125/3125\u001b[0m \u001b[32m━━━━━━━━━━━━━━━━━━━━\u001b[0m\u001b[37m\u001b[0m \u001b[1m0s\u001b[0m 83ms/step - accuracy: 0.9428 - loss: 0.1499\n",
            "Epoch 16: val_loss improved from 0.22809 to 0.22163, saving model to best_xception.h5\n"
          ]
        },
        {
          "output_type": "stream",
          "name": "stderr",
          "text": [
            "WARNING:absl:You are saving your model as an HDF5 file via `model.save()` or `keras.saving.save_model(model)`. This file format is considered legacy. We recommend using instead the native Keras format, e.g. `model.save('my_model.keras')` or `keras.saving.save_model(model, 'my_model.keras')`. \n"
          ]
        },
        {
          "output_type": "stream",
          "name": "stdout",
          "text": [
            "\b\b\b\b\b\b\b\b\b\b\b\b\b\b\b\b\b\b\b\b\b\b\b\b\b\b\b\b\b\b\b\b\b\b\b\b\b\b\b\b\b\b\b\b\b\b\b\b\b\b\b\b\b\b\b\b\b\b\b\b\b\b\b\b\b\b\b\b\b\b\b\b\b\b\b\b\b\r\u001b[1m3125/3125\u001b[0m \u001b[32m━━━━━━━━━━━━━━━━━━━━\u001b[0m\u001b[37m\u001b[0m \u001b[1m309s\u001b[0m 99ms/step - accuracy: 0.9428 - loss: 0.1499 - val_accuracy: 0.9089 - val_loss: 0.2216\n",
            "Epoch 17/20\n",
            "\u001b[1m3125/3125\u001b[0m \u001b[32m━━━━━━━━━━━━━━━━━━━━\u001b[0m\u001b[37m\u001b[0m \u001b[1m0s\u001b[0m 83ms/step - accuracy: 0.9443 - loss: 0.1448\n",
            "Epoch 17: val_loss did not improve from 0.22163\n",
            "\u001b[1m3125/3125\u001b[0m \u001b[32m━━━━━━━━━━━━━━━━━━━━\u001b[0m\u001b[37m\u001b[0m \u001b[1m309s\u001b[0m 99ms/step - accuracy: 0.9443 - loss: 0.1448 - val_accuracy: 0.9107 - val_loss: 0.2225\n",
            "Epoch 18/20\n",
            "\u001b[1m3125/3125\u001b[0m \u001b[32m━━━━━━━━━━━━━━━━━━━━\u001b[0m\u001b[37m\u001b[0m \u001b[1m0s\u001b[0m 84ms/step - accuracy: 0.9478 - loss: 0.1375\n",
            "Epoch 18: val_loss did not improve from 0.22163\n",
            "\u001b[1m3125/3125\u001b[0m \u001b[32m━━━━━━━━━━━━━━━━━━━━\u001b[0m\u001b[37m\u001b[0m \u001b[1m312s\u001b[0m 100ms/step - accuracy: 0.9478 - loss: 0.1375 - val_accuracy: 0.9046 - val_loss: 0.2346\n",
            "Epoch 19/20\n",
            "\u001b[1m3125/3125\u001b[0m \u001b[32m━━━━━━━━━━━━━━━━━━━━\u001b[0m\u001b[37m\u001b[0m \u001b[1m0s\u001b[0m 84ms/step - accuracy: 0.9515 - loss: 0.1320\n",
            "Epoch 19: val_loss improved from 0.22163 to 0.22121, saving model to best_xception.h5\n"
          ]
        },
        {
          "output_type": "stream",
          "name": "stderr",
          "text": [
            "WARNING:absl:You are saving your model as an HDF5 file via `model.save()` or `keras.saving.save_model(model)`. This file format is considered legacy. We recommend using instead the native Keras format, e.g. `model.save('my_model.keras')` or `keras.saving.save_model(model, 'my_model.keras')`. \n"
          ]
        },
        {
          "output_type": "stream",
          "name": "stdout",
          "text": [
            "\b\b\b\b\b\b\b\b\b\b\b\b\b\b\b\b\b\b\b\b\b\b\b\b\b\b\b\b\b\b\b\b\b\b\b\b\b\b\b\b\b\b\b\b\b\b\b\b\b\b\b\b\b\b\b\b\b\b\b\b\b\b\b\b\b\b\b\b\b\b\b\b\b\b\b\b\b\r\u001b[1m3125/3125\u001b[0m \u001b[32m━━━━━━━━━━━━━━━━━━━━\u001b[0m\u001b[37m\u001b[0m \u001b[1m312s\u001b[0m 100ms/step - accuracy: 0.9515 - loss: 0.1320 - val_accuracy: 0.9096 - val_loss: 0.2212\n",
            "Epoch 20/20\n",
            "\u001b[1m3125/3125\u001b[0m \u001b[32m━━━━━━━━━━━━━━━━━━━━\u001b[0m\u001b[37m\u001b[0m \u001b[1m0s\u001b[0m 84ms/step - accuracy: 0.9546 - loss: 0.1270\n",
            "Epoch 20: val_loss improved from 0.22121 to 0.21462, saving model to best_xception.h5\n"
          ]
        },
        {
          "output_type": "stream",
          "name": "stderr",
          "text": [
            "WARNING:absl:You are saving your model as an HDF5 file via `model.save()` or `keras.saving.save_model(model)`. This file format is considered legacy. We recommend using instead the native Keras format, e.g. `model.save('my_model.keras')` or `keras.saving.save_model(model, 'my_model.keras')`. \n"
          ]
        },
        {
          "output_type": "stream",
          "name": "stdout",
          "text": [
            "\b\b\b\b\b\b\b\b\b\b\b\b\b\b\b\b\b\b\b\b\b\b\b\b\b\b\b\b\b\b\b\b\b\b\b\b\b\b\b\b\b\b\b\b\b\b\b\b\b\b\b\b\b\b\b\b\b\b\b\b\b\b\b\b\b\b\b\b\b\b\b\b\b\b\b\b\b\r\u001b[1m3125/3125\u001b[0m \u001b[32m━━━━━━━━━━━━━━━━━━━━\u001b[0m\u001b[37m\u001b[0m \u001b[1m312s\u001b[0m 100ms/step - accuracy: 0.9546 - loss: 0.1270 - val_accuracy: 0.9140 - val_loss: 0.2146\n"
          ]
        }
      ]
    },
    {
      "cell_type": "code",
      "source": [
        "# 5) After running the 20 epochs of the best model, we plot its loss & accuracy curves\n",
        "import matplotlib.pyplot as plt\n",
        "\n",
        "plt.figure(figsize=(12,4))\n",
        "plt.subplot(1,2,1)\n",
        "plt.plot(history.history['loss'], label='train loss')\n",
        "plt.plot(history.history['val_loss'], label='val loss')\n",
        "plt.title('Loss')\n",
        "plt.legend()\n",
        "\n",
        "plt.subplot(1,2,2)\n",
        "plt.plot(history.history['accuracy'], label='train acc')\n",
        "plt.plot(history.history['val_accuracy'], label='val acc')\n",
        "plt.title('Accuracy')\n",
        "plt.legend()\n",
        "plt.show()\n"
      ],
      "metadata": {
        "colab": {
          "base_uri": "https://localhost:8080/",
          "height": 391
        },
        "id": "f3BHSEKYQaqf",
        "outputId": "cfba0bdb-9227-4d45-fad5-6dae9b12e7fa"
      },
      "execution_count": null,
      "outputs": [
        {
          "output_type": "display_data",
          "data": {
            "text/plain": [
              "<Figure size 1200x400 with 2 Axes>"
            ],
            "image/png": "[encoded data removed]"
          },
          "metadata": {}
        }
      ]
    },
    {
      "cell_type": "code",
      "source": [
        "# 6) Final evaluation & metrics on validation and test\n",
        "from sklearn.metrics import (confusion_matrix,\n",
        "                             classification_report,\n",
        "                             roc_curve, auc)\n",
        "\n",
        "# validation\n",
        "print(\"\\n--- VALIDATION EVALUATION ---\")\n",
        "val_loss, val_acc = best_model.evaluate(valid_gen, verbose=1)\n",
        "print(f\"Val loss: {val_loss:.4f}, val acc: {val_acc:.4f}\")\n",
        "\n",
        "# test\n",
        "print(\"\\n--- TEST EVALUATION ---\")\n",
        "test_loss, test_acc = best_model.evaluate(test_gen, verbose=1)\n",
        "print(f\"Test loss: {test_loss:.4f}, test acc: {test_acc:.4f}\")"
      ],
      "metadata": {
        "colab": {
          "base_uri": "https://localhost:8080/"
        },
        "id": "y_AhdExyRTce",
        "outputId": "5877b3ee-daff-4dd2-9f73-bc7193655383"
      },
      "execution_count": null,
      "outputs": [
        {
          "output_type": "stream",
          "name": "stdout",
          "text": [
            "\n",
            "--- VALIDATION EVALUATION ---\n",
            "\u001b[1m625/625\u001b[0m \u001b[32m━━━━━━━━━━━━━━━━━━━━\u001b[0m\u001b[37m\u001b[0m \u001b[1m52s\u001b[0m 83ms/step - accuracy: 0.9108 - loss: 0.2214\n",
            "Val loss: 0.2146, val acc: 0.9140\n",
            "\n",
            "--- TEST EVALUATION ---\n",
            "\u001b[1m625/625\u001b[0m \u001b[32m━━━━━━━━━━━━━━━━━━━━\u001b[0m\u001b[37m\u001b[0m \u001b[1m51s\u001b[0m 81ms/step - accuracy: 0.9217 - loss: 0.1991\n",
            "Test loss: 0.2159, test acc: 0.9136\n"
          ]
        }
      ]
    },
    {
      "cell_type": "code",
      "source": [
        "# preds on test\n",
        "y_true = test_gen.classes\n",
        "y_prob = best_model.predict(test_gen).ravel()\n",
        "y_pred = (y_prob >= 0.5).astype(int)\n",
        "\n",
        "# confusion matrix + classification report\n",
        "print(\"\\nConfusion Matrix (test):\")\n",
        "print(confusion_matrix(y_true, y_pred))\n",
        "print(\"\\nClassification Report (test):\")\n",
        "print(classification_report(y_true, y_pred, digits=4))"
      ],
      "metadata": {
        "colab": {
          "base_uri": "https://localhost:8080/"
        },
        "id": "x3JcA_sGRX6_",
        "outputId": "f5f67ecc-f209-4616-8d43-07240e0e4fa7"
      },
      "execution_count": null,
      "outputs": [
        {
          "output_type": "stream",
          "name": "stdout",
          "text": [
            "\u001b[1m625/625\u001b[0m \u001b[32m━━━━━━━━━━━━━━━━━━━━\u001b[0m\u001b[37m\u001b[0m \u001b[1m54s\u001b[0m 82ms/step\n",
            "\n",
            "Confusion Matrix (test):\n",
            "[[9249  751]\n",
            " [ 978 9022]]\n",
            "\n",
            "Classification Report (test):\n",
            "              precision    recall  f1-score   support\n",
            "\n",
            "           0     0.9044    0.9249    0.9145     10000\n",
            "           1     0.9232    0.9022    0.9126     10000\n",
            "\n",
            "    accuracy                         0.9135     20000\n",
            "   macro avg     0.9138    0.9136    0.9135     20000\n",
            "weighted avg     0.9138    0.9135    0.9135     20000\n",
            "\n"
          ]
        }
      ]
    },
    {
      "cell_type": "code",
      "source": [
        "# ROC curve + AUC\n",
        "fpr, tpr, _ = roc_curve(y_true, y_prob)\n",
        "roc_auc = auc(fpr, tpr)\n",
        "\n",
        "plt.figure()\n",
        "plt.plot(fpr, tpr, label=f\"AUC = {roc_auc:.4f}\")\n",
        "plt.plot([0,1],[0,1],'k--')\n",
        "plt.xlabel('False Positive Rate')\n",
        "plt.ylabel('True Positive Rate')\n",
        "plt.title('ROC Curve (test)')\n",
        "plt.legend(loc='lower right')\n",
        "plt.show()"
      ],
      "metadata": {
        "colab": {
          "base_uri": "https://localhost:8080/",
          "height": 472
        },
        "id": "x-2Vx2ZzRzMB",
        "outputId": "0a1e412c-4703-4ff8-ed14-bb45b3f777b8"
      },
      "execution_count": null,
      "outputs": [
        {
          "output_type": "display_data",
          "data": {
            "text/plain": [
              "<Figure size 640x480 with 1 Axes>"
            ],
            "image/png": "[encoded data removed]"
          },
          "metadata": {}
        }
      ]
    },
    {
      "cell_type": "code",
      "source": [
        "# 9) now we extract & save the features on train/valid/test\n",
        "from tensorflow.keras.models import Model as KModel\n",
        "import numpy as np\n",
        "\n",
        "feat_extractor = KModel(\n",
        "    inputs=best_model.input,\n",
        "    outputs=best_model.layers[-3].output\n",
        ")\n",
        "\n",
        "out_dir = '/content/drive/MyDrive/tu_proyecto/xception_features'\n",
        "os.makedirs(out_dir, exist_ok=True)\n",
        "\n",
        "for split, gen in zip(['train','valid','test'], [train_gen, valid_gen, test_gen]):\n",
        "    feats = feat_extractor.predict(gen, verbose=1)\n",
        "    labels = gen.classes\n",
        "    np.save(os.path.join(out_dir, f'features_{split}.npy'), feats)\n",
        "    np.save(os.path.join(out_dir, f'labels_{split}.npy'), labels)\n",
        "\n",
        "print(\"\\n✅ All features saved.\")\n"
      ],
      "metadata": {
        "colab": {
          "base_uri": "https://localhost:8080/"
        },
        "id": "OFSE0dQWSH8e",
        "outputId": "7144f089-6330-4741-c1f4-2a73240e942a"
      },
      "execution_count": null,
      "outputs": [
        {
          "output_type": "stream",
          "name": "stdout",
          "text": [
            "\u001b[1m3125/3125\u001b[0m \u001b[32m━━━━━━━━━━━━━━━━━━━━\u001b[0m\u001b[37m\u001b[0m \u001b[1m262s\u001b[0m 83ms/step\n",
            "\u001b[1m625/625\u001b[0m \u001b[32m━━━━━━━━━━━━━━━━━━━━\u001b[0m\u001b[37m\u001b[0m \u001b[1m50s\u001b[0m 80ms/step\n",
            "\u001b[1m625/625\u001b[0m \u001b[32m━━━━━━━━━━━━━━━━━━━━\u001b[0m\u001b[37m\u001b[0m \u001b[1m51s\u001b[0m 81ms/step\n",
            "\n",
            "✅ All features saved.\n"
          ]
        }
      ]
    }
  ],
  "metadata": {
    "accelerator": "GPU",
    "colab": {
      "gpuType": "A100",
      "machine_shape": "hm",
      "provenance": []
    },
    "kernelspec": {
      "display_name": "Python 3",
      "name": "python3"
    },
    "language_info": {
      "name": "python"
    }
  },
  "nbformat": 4,
  "nbformat_minor": 0
}